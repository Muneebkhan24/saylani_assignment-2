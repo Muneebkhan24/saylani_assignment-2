{
 "cells": [
  {
   "cell_type": "code",
   "execution_count": null,
   "id": "e12c6524-4bd6-4852-ad7a-d2a04b3aa93c",
   "metadata": {},
   "outputs": [],
   "source": [
    "Strings Assignments"
   ]
  },
  {
   "cell_type": "markdown",
   "id": "4d63b8cf-4c2b-471b-88d9-b4c649d731f9",
   "metadata": {},
   "source": [
    "1. Write a program that accepts a string from user. Your program should count and display number of vowels in that string.\n"
   ]
  },
  {
   "cell_type": "code",
   "execution_count": 1,
   "id": "2ca4b01d-e097-45c9-94af-d64c72536352",
   "metadata": {},
   "outputs": [
    {
     "name": "stdin",
     "output_type": "stream",
     "text": [
      "Enter a string:  ayesha\n"
     ]
    },
    {
     "name": "stdout",
     "output_type": "stream",
     "text": [
      "Number of vowels: 3\n"
     ]
    }
   ],
   "source": [
    "def count_vowels(s):\n",
    "    vowels = \"aeiouAEIOU\"\n",
    "    count = sum(1 for char in s if char in vowels)\n",
    "    print(f\"Number of vowels: {count}\")\n",
    "\n",
    "user_input = input(\"Enter a string: \")\n",
    "count_vowels(user_input)"
   ]
  },
  {
   "cell_type": "markdown",
   "id": "cdeb4d64-d70e-4c2e-a54e-8e6852667731",
   "metadata": {},
   "source": [
    "2. Write a program that reads a string from keyboard and display:\n",
    "\n",
    "The number of uppercase letters in the string\n",
    "The number of lowercase letters in the string\n",
    "The number of digits in the string\n",
    "The number of whitespace characters in the string\n"
   ]
  },
  {
   "cell_type": "code",
   "execution_count": 2,
   "id": "4bc3d67a-36fe-4da8-9acf-9e929a5f6314",
   "metadata": {},
   "outputs": [
    {
     "name": "stdin",
     "output_type": "stream",
     "text": [
      "Enter a string:  ayesha\n"
     ]
    },
    {
     "name": "stdout",
     "output_type": "stream",
     "text": [
      "Uppercase letters: 0\n",
      "Lowercase letters: 6\n",
      "Digits: 0\n",
      "Whitespace characters: 0\n"
     ]
    }
   ],
   "source": [
    "def count_characters(s):\n",
    "    uppercase = sum(1 for char in s if char.isupper())\n",
    "    lowercase = sum(1 for char in s if char.islower())\n",
    "    digits = sum(1 for char in s if char.isdigit())\n",
    "    whitespaces = sum(1 for char in s if char.isspace())\n",
    "    \n",
    "    print(f\"Uppercase letters: {uppercase}\")\n",
    "    print(f\"Lowercase letters: {lowercase}\")\n",
    "    print(f\"Digits: {digits}\")\n",
    "    print(f\"Whitespace characters: {whitespaces}\")\n",
    "\n",
    "user_input = input(\"Enter a string: \")\n",
    "count_characters(user_input)\n"
   ]
  },
  {
   "cell_type": "markdown",
   "id": "205e8f47-3697-4c1b-aa54-8d82b6b93115",
   "metadata": {},
   "source": [
    "3. Write a Python program that accepts a string from user. Your program should create and display a new string where the first and last characters have been exchanged.\n",
    "For example if the user enters the string 'HELLO' then new string would be 'OELLH'"
   ]
  },
  {
   "cell_type": "code",
   "execution_count": null,
   "id": "6c60b72a-eab1-4857-b13d-7cb80b1a767e",
   "metadata": {},
   "outputs": [],
   "source": [
    "def exchange_first_last(s):\n",
    "    if len(s) > 1:\n",
    "        new_string = s[-1] + s[1:-1] + s[0]\n",
    "    else:\n",
    "        new_string = s\n",
    "    print(f\"New string: {new_string}\")\n",
    "\n",
    "user_input = input(\"Enter a string: \")\n",
    "exchange_first_last(user_input)\n",
    "\n"
   ]
  },
  {
   "cell_type": "markdown",
   "id": "1001848a-6f40-4445-ba9d-d630d7736f69",
   "metadata": {},
   "source": [
    "4. Write a Python program that accepts a string from user. Your program should create a new string in reverse of first string and display it.\n",
    "For example if the user enters the string 'EXAM' then new string would be 'MAXE'\n"
   ]
  },
  {
   "cell_type": "code",
   "execution_count": null,
   "id": "0ebea292-2183-472f-8f75-7c2385e511f1",
   "metadata": {},
   "outputs": [],
   "source": [
    "def reverse_string(s):\n",
    "    reversed_string = s[::-1]\n",
    "    print(f\"Reversed string: {reversed_string}\")\n",
    "\n",
    "user_input = input(\"Enter a string: \")\n",
    "reverse_string(user_input)"
   ]
  },
  {
   "cell_type": "markdown",
   "id": "71ff38ba-749e-47af-8748-fa9f66c8d7c6",
   "metadata": {},
   "source": [
    "5. Write a Python program that accepts a string from user. Your program should create a new string by shifting one position to left.\n",
    "For example if the user enters the string 'examination 2021' then new string would be 'xamination 2021e'"
   ]
  },
  {
   "cell_type": "code",
   "execution_count": null,
   "id": "081c0568-b498-4b01-8947-ba7ab13a4225",
   "metadata": {},
   "outputs": [],
   "source": [
    "def shift_left(s):\n",
    "    if len(s) > 1:\n",
    "        new_string = s[1:] + s[0]\n",
    "    else:\n",
    "        new_string = s\n",
    "    print(f\"Shifted string: {new_string}\")\n",
    "\n",
    "user_input = input(\"Enter a string: \")\n",
    "shift_left(user_input)"
   ]
  },
  {
   "cell_type": "markdown",
   "id": "b3e4cc3d-95a0-4b1f-a53b-d12e542e0aa7",
   "metadata": {},
   "source": [
    "6. Write a program that asks the user to input his name and print its initials. Assuming that the user always types first name, middle name and last name and does not include any unnecessary spaces.\n",
    "For example, if the user enters Ajay Kumar Garg the program should display A. K. G.\n",
    "\n",
    "Note: Don't use split() method"
   ]
  },
  {
   "cell_type": "code",
   "execution_count": null,
   "id": "bf427c8e-43e9-4054-9238-32c82abf8705",
   "metadata": {},
   "outputs": [],
   "source": [
    "def display_initials(name):\n",
    "    initials = ''\n",
    "    for i in range(len(name)):\n",
    "        if name[i].isupper() and (i == 0 or name[i-1] == ' '):\n",
    "            initials += name[i] + '. '\n",
    "    print(initials.strip())\n",
    "\n",
    "user_name = input(\"Enter your full name: \")\n",
    "display_initials(user_name)"
   ]
  },
  {
   "cell_type": "markdown",
   "id": "61c9f782-aa14-42af-9357-08052979a9a4",
   "metadata": {},
   "source": [
    "7. A palindrome is a string that reads the same backward as forward. For example, the words dad, madam and radar are all palindromes. Write a programs that determines whether the string is a palindrome.\n",
    "Note: do not use reverse() method"
   ]
  },
  {
   "cell_type": "code",
   "execution_count": null,
   "id": "5994cd73-32e1-46bc-a29d-8e80a45df7d5",
   "metadata": {},
   "outputs": [],
   "source": [
    "def is_palindrome(s):\n",
    "    s = s.lower()\n",
    "    is_palindrome = s == s[::-1]\n",
    "    print(f\"Is palindrome: {is_palindrome}\")\n",
    "\n",
    "user_input = input(\"Enter a string: \")\n",
    "is_palindrome(user_input)"
   ]
  },
  {
   "cell_type": "markdown",
   "id": "b6259902-f1bb-4a0a-b8fb-f1cb43f5e0db",
   "metadata": {},
   "source": [
    "8. Write a program that display following output:\n",
    "\n",
    "SHIFT\n",
    "HIFTS\n",
    "IFTSH\n",
    "FTSHI\n",
    "TSHIF\n",
    "SHIFT"
   ]
  },
  {
   "cell_type": "code",
   "execution_count": null,
   "id": "2e9bc387-bd7e-4d28-bbdc-e7f38147afba",
   "metadata": {},
   "outputs": [],
   "source": [
    "def shift_display(s):\n",
    "    n = len(s)\n",
    "    for i in range(n):\n",
    "        print(s[i:] + s[:i])\n",
    "\n",
    "user_input = input(\"Enter a string: \")\n",
    "shift_display(user_input)\n"
   ]
  },
  {
   "cell_type": "markdown",
   "id": "37f99a34-3059-4a1a-b34a-1ee46740f025",
   "metadata": {},
   "source": [
    "9.Write a program in python that accepts a string to setup a passwords. Your entered password must meet the following requirements. \n",
    "The password must be at least eight characters long.\n",
    "\n",
    "It must contain at least one uppercase letter.\n",
    "It must contain at least one lowercase letter.\n",
    "It must contain at least one numeric digit.\n",
    "Your program should should perform this validation"
   ]
  },
  {
   "cell_type": "code",
   "execution_count": null,
   "id": "f9b5e54b-97f7-40ba-b7cd-f38d883ee570",
   "metadata": {},
   "outputs": [],
   "source": [
    "def validate_password(password):\n",
    "    if len(password) < 8:\n",
    "        return False\n",
    "    has_upper = any(char.isupper() for char in password)\n",
    "    has_lower = any(char.islower() for char in password)\n",
    "    has_digit = any(char.isdigit() for char in password)\n",
    "    return has_upper and has_lower and has_digit\n",
    "\n",
    "password = input(\"Set up your password: \")\n",
    "if validate_password(password):\n",
    "    print(\"Password is valid.\")\n",
    "else:\n",
    "    print(\"Password does not meet the requirements.\")"
   ]
  }
 ],
 "metadata": {
  "kernelspec": {
   "display_name": "Python 3 (ipykernel)",
   "language": "python",
   "name": "python3"
  },
  "language_info": {
   "codemirror_mode": {
    "name": "ipython",
    "version": 3
   },
   "file_extension": ".py",
   "mimetype": "text/x-python",
   "name": "python",
   "nbconvert_exporter": "python",
   "pygments_lexer": "ipython3",
   "version": "3.12.5"
  }
 },
 "nbformat": 4,
 "nbformat_minor": 5
}
