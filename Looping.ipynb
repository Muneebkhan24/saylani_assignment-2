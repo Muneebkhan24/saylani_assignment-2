{
 "cells": [
  {
   "cell_type": "markdown",
   "id": "5c111209-7e45-426c-8a8c-ab00c6753028",
   "metadata": {},
   "source": [
    "LOOPING"
   ]
  },
  {
   "cell_type": "markdown",
   "id": "7a147966-498f-4d60-904c-99e75e35e29d",
   "metadata": {},
   "source": [
    "1. Write a Python program to print the numbers from 1 to 10 using a for loop. "
   ]
  },
  {
   "cell_type": "code",
   "execution_count": null,
   "id": "2ccb6326-01d4-4c3b-99bf-b7b50060c37f",
   "metadata": {},
   "outputs": [],
   "source": [
    "for i in range(1, 11):\n",
    "    print(i)"
   ]
  },
  {
   "cell_type": "markdown",
   "id": "bff3a8e3-7f6a-452d-9798-b7873ec9bd77",
   "metadata": {},
   "source": [
    "2. Write a Python program to print the numbers from 20 to 1 using a while loop."
   ]
  },
  {
   "cell_type": "code",
   "execution_count": null,
   "id": "0572d42b-6060-4662-ae82-7490e9c6d4dc",
   "metadata": {},
   "outputs": [],
   "source": [
    "i = 20\n",
    "while i >= 1:\n",
    "    print(i)\n",
    "    i -= 1"
   ]
  },
  {
   "cell_type": "markdown",
   "id": "40cfd969-4768-470b-9ee3-74b343e23359",
   "metadata": {},
   "source": [
    "3. Write a program to print even numbers from 1 to 10. "
   ]
  },
  {
   "cell_type": "code",
   "execution_count": null,
   "id": "18fd5a52-a7eb-4ab9-bf66-27428462fb4c",
   "metadata": {},
   "outputs": [],
   "source": [
    "for i in range(2, 11, 2):\n",
    "    print(i)"
   ]
  },
  {
   "cell_type": "markdown",
   "id": "d713ac3e-09de-4e72-a691-02f58bdca4d4",
   "metadata": {},
   "source": [
    "4.  Write a program that prompts the user to enter a number n and prints all the \n",
    "numbers from 1 to n. "
   ]
  },
  {
   "cell_type": "code",
   "execution_count": null,
   "id": "3b87f9a5-5c9c-425e-b5ce-306c06ae9f37",
   "metadata": {},
   "outputs": [],
   "source": [
    "n = int(input(\"Enter a number: \"))\n",
    "for i in range(1, n + 1):\n",
    "    print(i)"
   ]
  },
  {
   "cell_type": "markdown",
   "id": "013e9b63-9b1f-4126-b847-b5326809cd15",
   "metadata": {},
   "source": [
    "5. Write a program that prompts the user to enter a number n, and then prints all the \n",
    "odd numbers between 1 and n. "
   ]
  },
  {
   "cell_type": "code",
   "execution_count": null,
   "id": "53ebeae5-7476-4f11-b6dd-ab732cf52ab3",
   "metadata": {},
   "outputs": [],
   "source": [
    "n = int(input(\"Enter a number: \"))\n",
    "for i in range(1, n + 1, 2):\n",
    "    print(i)"
   ]
  },
  {
   "cell_type": "markdown",
   "id": "76f87581-db42-4212-94a8-f7f7165607a1",
   "metadata": {},
   "source": [
    "6. Write a program that prints 'Happy Birthday!' five times on screen. "
   ]
  },
  {
   "cell_type": "code",
   "execution_count": null,
   "id": "76b41d19-6a25-42fe-9c6d-6cbdded9f29b",
   "metadata": {},
   "outputs": [],
   "source": [
    "for i in range(5):\n",
    "    print(\"Happy Birthday!\")"
   ]
  },
  {
   "cell_type": "markdown",
   "id": "169f30ea-2439-4026-8c7b-ae30f0d6cfc0",
   "metadata": {},
   "source": [
    "7. Write a program that takes a number n as input from the user and generates the first \n",
    "n terms of the series formed by squaring the natural numbers. \n",
    "Sample output \n",
    "Enter a number: 6 \n",
    "The first 6 terms of the series are: \n",
    "1 4 9 16 25 36 "
   ]
  },
  {
   "cell_type": "code",
   "execution_count": null,
   "id": "c0a29fc9-f44f-4e64-b0f8-c9dd5d87e58d",
   "metadata": {},
   "outputs": [],
   "source": [
    "n = int(input(\"Enter a number: \"))\n",
    "print(f\"The first {n} terms of the series are:\")\n",
    "for i in range(1, n + 1):\n",
    "    print(i ** 2, end=\" \")"
   ]
  },
  {
   "cell_type": "markdown",
   "id": "4eb145f3-1989-458e-b334-aa129068b623",
   "metadata": {},
   "source": [
    "8. Write a program that prompts the user to input a number and prints its multiplication \n",
    "table. "
   ]
  },
  {
   "cell_type": "code",
   "execution_count": null,
   "id": "5af7a83e-765d-4e29-a25a-e0c0a7b3f330",
   "metadata": {},
   "outputs": [],
   "source": [
    "n = int(input(\"Enter a number: \"))\n",
    "print(f\"Multiplication table of {n}:\")\n",
    "for i in range(1, 11):\n",
    "    print(f\"{n} x {i} = {n * i}\")"
   ]
  },
  {
   "cell_type": "markdown",
   "id": "3a85f51d-7f75-4a27-978b-20abef1beb69",
   "metadata": {},
   "source": [
    "9. Write a Python program to print the first 8 terms of an arithmetic progression starting \n",
    "with 3 and having a common difference of 4. \n",
    "The program should output the following sequence: \n",
    "3 7 11 15 19 23 27 31 "
   ]
  },
  {
   "cell_type": "code",
   "execution_count": null,
   "id": "bcd351fc-0ca2-4581-a93e-cd03f7bd218b",
   "metadata": {},
   "outputs": [],
   "source": [
    "start = 3\n",
    "diff = 4\n",
    "terms = 8\n",
    "for i in range(terms):\n",
    "    print(start + i * diff, end=\" \")"
   ]
  },
  {
   "cell_type": "markdown",
   "id": "e211aa0f-ac72-4cc3-8d72-59e5e3be181c",
   "metadata": {},
   "source": [
    "10. Write a Python program to print the first 6 terms of a geometric sequence starting \n",
    "with 2 and having a common ratio of 3. \n",
    "The program should output the following sequence: \n",
    "2 6 18 54 162 486 "
   ]
  },
  {
   "cell_type": "code",
   "execution_count": null,
   "id": "546fad02-9f41-4864-9ad4-381af36d63ce",
   "metadata": {},
   "outputs": [],
   "source": [
    "start = 2\n",
    "ratio = 3\n",
    "terms = 6\n",
    "for i in range(terms):\n",
    "    print(start * (ratio ** i), end=\" \")"
   ]
  },
  {
   "cell_type": "markdown",
   "id": "f7518c3f-0fec-4e1d-8cc4-e3aca9c1dca8",
   "metadata": {},
   "source": [
    "11. Write a program that asks the user for a positive integer value. The program should \n",
    "calculate the sum of all the integers from 1 up to the number entered. For example, if \n",
    "the user enters 20, the loop will find the sum of 1, 2, 3, 4, ... 20. "
   ]
  },
  {
   "cell_type": "code",
   "execution_count": null,
   "id": "c251b81c-61fa-4f07-80dd-0a4ef435f915",
   "metadata": {},
   "outputs": [],
   "source": [
    "n = int(input(\"Enter a positive integer: \"))\n",
    "total_sum = sum(range(1, n + 1))\n",
    "print(f\"The sum of all integers from 1 to {n} is: {total_sum}\")"
   ]
  },
  {
   "cell_type": "markdown",
   "id": "20295483-decb-47f5-aee6-6efd9c058488",
   "metadata": {},
   "source": [
    "12. write a program that takes a positive integer N as input and calculates the sum of \n",
    "the reciprocals of all numbers from 1 up to N. The program should display the final sum. \n",
    "Output of the program should be like: \n",
    "Enter a positive integer: 5 \n",
    "The sum of reciprocals from 1 to 5 is: 2.28 "
   ]
  },
  {
   "cell_type": "code",
   "execution_count": null,
   "id": "52cc441b-7fca-4e1d-92f7-a79a30f914c6",
   "metadata": {},
   "outputs": [],
   "source": [
    "n = int(input(\"Enter a positive integer: \"))\n",
    "reciprocal_sum = sum(1 / i for i in range(1, n + 1))\n",
    "print(f\"The sum of reciprocals from 1 to {n} is: {reciprocal_sum:.2f}\")"
   ]
  },
  {
   "cell_type": "markdown",
   "id": "e6735d89-2abc-424a-b663-bfdb84049a7c",
   "metadata": {},
   "source": [
    "13. Write a program that prompts the user to enter a number and repeats this process 5 \n",
    "times. The program should accumulate the numbers entered and then display the final \n",
    "running total. \n",
    "Sample Output: \n",
    "Enter a number: 10 \n",
    "Enter a number: 15 \n",
    "Enter a number: 35 \n",
    "Enter a number: 40 \n",
    "Enter a number: 50 \n",
    "The final running total is: 150 "
   ]
  },
  {
   "cell_type": "code",
   "execution_count": null,
   "id": "00a7f62c-c4b5-47c0-bb47-219450901608",
   "metadata": {},
   "outputs": [],
   "source": [
    "total = 0\n",
    "for i in range(5):\n",
    "    num = int(input(\"Enter a number: \"))\n",
    "    total += num\n",
    "print(f\"The final running total is: {total}\")"
   ]
  },
  {
   "cell_type": "markdown",
   "id": "db0aa462-97a7-4c4f-968f-809947987c58",
   "metadata": {},
   "source": [
    "14. Write a program that prompts the user to enter a positive integer and calculates its \n",
    "factorial. The factorial of a positive integer 'n' is denoted as 'n!' and is calculated by \n",
    "multiplying all the integers from 1 to 'n' together. For example, the factorial of 5 \n",
    "(denoted as 5!) is calculated as 1 x 2 x 3 x 4 x 5. \n",
    "The program should display the factorial value if the input is a positive number, or \n",
    "display a message stating that the factorial does not exist for negative numbers. \n",
    "Additionally, for an input of zero, the program should output that the factorial of 0 is 1. "
   ]
  },
  {
   "cell_type": "code",
   "execution_count": null,
   "id": "d0645b9d-01c7-40f0-9a05-1672ed32ba09",
   "metadata": {},
   "outputs": [],
   "source": [
    "n = int(input(\"Enter a positive integer: \"))\n",
    "if n < 0:\n",
    "    print(\"Factorial does not exist for negative numbers.\")\n",
    "elif n == 0:\n",
    "    print(\"The factorial of 0 is 1.\")\n",
    "else:\n",
    "    factorial = 1\n",
    "    for i in range(1, n + 1):\n",
    "        factorial *= i\n",
    "    print(f\"The factorial of {n} is {factorial}.\")"
   ]
  },
  {
   "cell_type": "markdown",
   "id": "de922d68-123c-4be1-b131-3b1aeb2f3e21",
   "metadata": {},
   "source": [
    "15. Write a Python program that prompts the user to enter a base number and an \n",
    "exponent, and then calculates the power of the base to the exponent. The program \n",
    "should not use the exponentiation operator (**) or the math.pow() function. The \n",
    "program should handle both positive and negative exponents.    solve it in python with question written as heading"
   ]
  },
  {
   "cell_type": "code",
   "execution_count": null,
   "id": "5b0660b6-3d5e-4311-ba06-f77e529d6265",
   "metadata": {},
   "outputs": [],
   "source": [
    "base = int(input(\"Enter the base number: \"))\n",
    "exponent = int(input(\"Enter the exponent: \"))\n",
    "\n",
    "result = 1\n",
    "if exponent > 0:\n",
    "    for _ in range(exponent):\n",
    "        result *= base\n",
    "elif exponent < 0:\n",
    "    for _ in range(-exponent):\n",
    "        result *= 1 / base\n",
    "print(f\"The result of {base} raised to the power of {exponent} is {result}.\")"
   ]
  }
 ],
 "metadata": {
  "kernelspec": {
   "display_name": "Python 3 (ipykernel)",
   "language": "python",
   "name": "python3"
  },
  "language_info": {
   "codemirror_mode": {
    "name": "ipython",
    "version": 3
   },
   "file_extension": ".py",
   "mimetype": "text/x-python",
   "name": "python",
   "nbconvert_exporter": "python",
   "pygments_lexer": "ipython3",
   "version": "3.12.5"
  }
 },
 "nbformat": 4,
 "nbformat_minor": 5
}
