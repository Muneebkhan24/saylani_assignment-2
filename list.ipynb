{
 "cells": [
  {
   "cell_type": "markdown",
   "id": "745e0eea-ec7e-45ca-a4ed-f117c32a59b1",
   "metadata": {},
   "source": [
    "1. Write a program that accepts a list from user and print the alternate element of list. "
   ]
  },
  {
   "cell_type": "code",
   "execution_count": null,
   "id": "cfa57568-d565-46ee-863a-9438849dc79e",
   "metadata": {},
   "outputs": [],
   "source": [
    "def alternate_elements(lst):\n",
    "    print(\"Alternate elements:\", lst[::2])\n",
    "\n",
    "user_list = input(\"Enter elements of the list separated by spaces: \").split()\n",
    "alternate_elements(user_list)"
   ]
  },
  {
   "cell_type": "markdown",
   "id": "6a8184f2-e3f6-465b-a551-663179b21161",
   "metadata": {},
   "source": [
    "2. Write a program that accepts a list from user. Your program should reverse the content of list and \n",
    "display it. Do not use reverse() method. "
   ]
  },
  {
   "cell_type": "code",
   "execution_count": null,
   "id": "e9957be6-4cb8-4e37-acd1-f48b64e01a71",
   "metadata": {},
   "outputs": [],
   "source": [
    "def reverse_list(lst):\n",
    "    reversed_lst = lst[::-1]\n",
    "    print(\"Reversed list:\", reversed_lst)\n",
    "\n",
    "user_list = input(\"Enter elements of the list separated by spaces: \").split()\n",
    "reverse_list(user_list)"
   ]
  },
  {
   "cell_type": "markdown",
   "id": "c3bf78d8-586f-4275-852e-c07ef48b3ae6",
   "metadata": {},
   "source": [
    "3. Find and display the largest number of a list without using built-in function max(). Your program \n",
    "should ask the user to input values in list from keyboard. "
   ]
  },
  {
   "cell_type": "code",
   "execution_count": null,
   "id": "022f1a55-07ec-4d7c-a0a2-baa503e8cc2a",
   "metadata": {},
   "outputs": [],
   "source": [
    "def find_largest(lst):\n",
    "    largest = lst[0]\n",
    "    for num in lst:\n",
    "        if num > largest:\n",
    "            largest = num\n",
    "    print(\"Largest number:\", largest)\n",
    "\n",
    "user_list = list(map(int, input(\"Enter numbers separated by spaces: \").split()))\n",
    "find_largest(user_list)"
   ]
  },
  {
   "cell_type": "markdown",
   "id": "191ce7d2-36e1-4de4-8e3b-c099425b408f",
   "metadata": {},
   "source": [
    "4. Write a program that rotates the element of a list so that the element at the first index moves to the \n",
    "second index, the element in the second index moves to the third index, etc., and the element in the last \n",
    "index moves to the first index. "
   ]
  },
  {
   "cell_type": "code",
   "execution_count": null,
   "id": "58caecef-0fc0-4826-b9be-d98d21f43fef",
   "metadata": {},
   "outputs": [],
   "source": [
    "def rotate_list(lst):\n",
    "    if len(lst) > 1:\n",
    "        rotated_list = lst[1:] + lst[:1]\n",
    "    else:\n",
    "        rotated_list = lst\n",
    "    print(\"Rotated list:\", rotated_list)\n",
    "\n",
    "user_list = input(\"Enter elements of the list separated by spaces: \").split()\n",
    "rotate_list(user_list)"
   ]
  },
  {
   "cell_type": "markdown",
   "id": "4decd7dd-1ac0-4cc9-bc05-4c9d44bfede5",
   "metadata": {},
   "source": [
    "5. Write a program that input a string and ask user to delete a given word from a string. "
   ]
  },
  {
   "cell_type": "code",
   "execution_count": null,
   "id": "eeac4a50-5cd1-4013-8a2c-119d01f11ac7",
   "metadata": {},
   "outputs": [],
   "source": [
    "def delete_word(string, word):\n",
    "    new_string = string.replace(word, '')\n",
    "    print(\"String after deletion:\", new_string.strip())\n",
    "user_string = input(\"Enter a string: \")\n",
    "word_to_delete = input(\"Enter the word to delete: \")\n",
    "delete_word(user_string, word_to_delete)"
   ]
  },
  {
   "cell_type": "markdown",
   "id": "43d9b75c-d3a6-47a3-8ad0-f934d17f46d3",
   "metadata": {},
   "source": [
    "6. Write a program that reads a string from the user containing a date in the form mm/dd/yyyy. It \n",
    "should print the date in the form March 12, 2021."
   ]
  },
  {
   "cell_type": "code",
   "execution_count": null,
   "id": "93110e5f-6471-4294-953c-828603a8b2ec",
   "metadata": {},
   "outputs": [],
   "source": [
    "import datetime\n",
    "\n",
    "def convert_date(date_str):\n",
    "    date_obj = datetime.datetime.strptime(date_str, \"%m/%d/%Y\")\n",
    "    formatted_date = date_obj.strftime(\"%B %d, %Y\")\n",
    "    print(\"Formatted date:\", formatted_date)\n",
    "\n",
    "user_date = input(\"Enter a date in mm/dd/yyyy format: \")\n",
    "convert_date(user_date)"
   ]
  },
  {
   "cell_type": "markdown",
   "id": "c5ef58e5-54c5-42ff-8795-685e7108bc86",
   "metadata": {},
   "source": [
    "7. Write a program with a function that accepts a string from keyboard and create a new string after \n",
    "converting character of each word capitalized. For instance, if the sentence is \"stop and smell the roses.\" \n",
    "the output should be \"Stop And Smell The Roses\" "
   ]
  },
  {
   "cell_type": "code",
   "execution_count": null,
   "id": "e2c84749-d8c7-4911-ace8-c9451d668cdc",
   "metadata": {},
   "outputs": [],
   "source": [
    "def capitalize_words(string):\n",
    "    capitalized_string = ' '.join(word.capitalize() for word in string.split())\n",
    "    print(\"Capitalized string:\", capitalized_string)\n",
    "\n",
    "user_string = input(\"Enter a string: \")\n",
    "capitalize_words(user_string)"
   ]
  },
  {
   "cell_type": "markdown",
   "id": "d2d260d1-75aa-4f8c-8a28-bc04b691d0bc",
   "metadata": {},
   "source": [
    "8.  Find the sum of each row of matrix of size m x n. For example for the following matrix output will be \n",
    "like this : \n",
    "2 11 7 12\n",
    "5 2 9 15\n",
    "8 3 10 42\n",
    "Sum of row 1 = 32 \n",
    "Sum of row 2 = 31 \n",
    "Sum of row 3 = 63 "
   ]
  },
  {
   "cell_type": "code",
   "execution_count": null,
   "id": "18782eaf-c256-4780-ac4c-4938c17b2aef",
   "metadata": {},
   "outputs": [],
   "source": [
    "def sum_of_rows(matrix):\n",
    "    for i, row in enumerate(matrix):\n",
    "        row_sum = sum(row)\n",
    "        print(f\"Sum of row {i+1} = {row_sum}\")\n",
    "m = int(input(\"Enter the number of rows: \"))\n",
    "n = int(input(\"Enter the number of columns: \"))\n",
    "matrix = []\n",
    "for i in range(m):\n",
    "    row = list(map(int, input(f\"Enter elements of row {i+1} separated by spaces: \").split()))\n",
    "    matrix.append(row)\n",
    "sum_of_rows(matrix)"
   ]
  },
  {
   "cell_type": "markdown",
   "id": "4db1528a-8b58-4532-ac92-61a916c2b2fc",
   "metadata": {},
   "source": [
    "9. Write a program to add two matrices of size n x m."
   ]
  },
  {
   "cell_type": "code",
   "execution_count": null,
   "id": "dc4836d4-8267-4d5f-a99f-2bbc1d986c15",
   "metadata": {},
   "outputs": [],
   "source": [
    "def add_matrices(matrix1, matrix2):\n",
    "    result_matrix = []\n",
    "    for i in range(len(matrix1)):\n",
    "        row = []\n",
    "        for j in range(len(matrix1[0])):\n",
    "            row.append(matrix1[i][j] + matrix2[i][j])\n",
    "        result_matrix.append(row)\n",
    "    return result_matrix\n",
    "\n",
    "n = int(input(\"Enter the number of rows: \"))\n",
    "m = int(input(\"Enter the number of columns: \"))\n",
    "\n",
    "matrix1 = []\n",
    "matrix2 = []\n",
    "\n",
    "print(\"Enter elements of the first matrix:\")\n",
    "for i in range(n):\n",
    "    row = list(map(int, input(f\"Enter elements of row {i+1} separated by spaces: \").split()))\n",
    "    matrix1.append(row)\n",
    "\n",
    "print(\"Enter elements of the second matrix:\")\n",
    "for i in range(n):\n",
    "    row = list(map(int, input(f\"Enter elements of row {i+1} separated by spaces: \").split()))\n",
    "    matrix2.append(row)\n",
    "\n",
    "result = add_matrices(matrix1, matrix2)\n",
    "print(\"Resultant matrix after addition:\")\n",
    "for row in result:\n",
    "    print(row)"
   ]
  }
 ],
 "metadata": {
  "kernelspec": {
   "display_name": "Python 3 (ipykernel)",
   "language": "python",
   "name": "python3"
  },
  "language_info": {
   "codemirror_mode": {
    "name": "ipython",
    "version": 3
   },
   "file_extension": ".py",
   "mimetype": "text/x-python",
   "name": "python",
   "nbconvert_exporter": "python",
   "pygments_lexer": "ipython3",
   "version": "3.12.5"
  }
 },
 "nbformat": 4,
 "nbformat_minor": 5
}
